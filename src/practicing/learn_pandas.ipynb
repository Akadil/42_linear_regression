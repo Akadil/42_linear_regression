{
 "cells": [
  {
   "cell_type": "code",
   "execution_count": 44,
   "id": "d28ef2a5",
   "metadata": {},
   "outputs": [
    {
     "name": "stdout",
     "output_type": "stream",
     "text": [
      "       km  price\n",
      "0  240000   3650\n",
      "1  139800   3800\n",
      "2  150500   4400\n",
      "3  185530   4450\n",
      "4  176000   5250 \n",
      "\n",
      "<class 'pandas.core.frame.DataFrame'>\n",
      "RangeIndex: 24 entries, 0 to 23\n",
      "Data columns (total 2 columns):\n",
      " #   Column  Non-Null Count  Dtype\n",
      "---  ------  --------------  -----\n",
      " 0   km      24 non-null     int64\n",
      " 1   price   24 non-null     int64\n",
      "dtypes: int64(2)\n",
      "memory usage: 516.0 bytes\n",
      "None\n"
     ]
    }
   ],
   "source": [
    "import pandas as pd\n",
    "\n",
    "# get the data from CSV file\n",
    "pd.options.display.max_rows = 10  # Show all rows in the DataFrame\n",
    "df = pd.read_csv('/Users/akadilkalimoldayev/my_git/ecole42/ft_linear_regression/static/data.csv') # dataframe\n",
    "\n",
    "print(df.head(), \"\\n\")  # Display the first few rows of the DataFrame\n",
    "print(df.info())  # Print the shape of the DataFrame"
   ]
  },
  {
   "cell_type": "markdown",
   "id": "ede1a183",
   "metadata": {},
   "source": [
    "Pandas is a tool to analyze and manipulate data in Python (or preprocess in other words). Before doing any work on data, the data has to be cleaned and preprocessed. Pandas is a library that provides data structures and data analysis tools for Python. It is particularly useful for working with structured data, such as tabular data in CSV files or SQL databases.\n",
    "It provides two main data structures: Series (1-dimensional) and DataFrame (2-dimensional).\n",
    "DataFrames are similar to tables in a database or spreadsheets in Excel, and they allow for easy manipulation and analysis of data."
   ]
  },
  {
   "cell_type": "code",
   "execution_count": 25,
   "id": "37c90bf8",
   "metadata": {},
   "outputs": [
    {
     "name": "stdout",
     "output_type": "stream",
     "text": [
      "      car  mpg  qwe\n",
      "0    Ford   21    1\n",
      "1  Toyota   22    2\n",
      "2   Honda   23    3 \n",
      "\n",
      "0 index: \n",
      "car    Ford\n",
      "mpg      21\n",
      "qwe       1\n",
      "Name: 0, dtype: object\n"
     ]
    }
   ],
   "source": [
    "my_dataset = {\n",
    "    'car': ['Ford', 'Toyota', 'Honda'],\n",
    "    'mpg': [21, 22, 23],\n",
    "    'qwe': [1, 2, 3],\n",
    "}\n",
    "\n",
    "try: \n",
    "    df = pd.DataFrame(my_dataset)\n",
    "    print(df.to_string(), \"\\n\")\n",
    "except Exception as e:\n",
    "    print(f\"Error creating DataFrame: {e}\")\n",
    "    exit(1)\n",
    "\n",
    "print(f\"0 index: \\n{df.iloc[0]}\")"
   ]
  },
  {
   "cell_type": "code",
   "execution_count": 33,
   "id": "8764cb9a",
   "metadata": {},
   "outputs": [
    {
     "name": "stdout",
     "output_type": "stream",
     "text": [
      "a    100\n",
      "b    200\n",
      "c    300\n",
      "d    400\n",
      "e    500\n"
     ]
    },
    {
     "name": "stderr",
     "output_type": "stream",
     "text": [
      "/var/folders/zw/cgr4j98s43195j52xp8tskvm0000gn/T/ipykernel_27506/2948984057.py:5: FutureWarning: Series.__getitem__ treating keys as positions is deprecated. In a future version, integer keys will always be treated as labels (consistent with DataFrame behavior). To access a value by position, use `ser.iloc[pos]`\n",
      "  my_var[0]\n"
     ]
    },
    {
     "data": {
      "text/plain": [
       "np.int64(100)"
      ]
     },
     "execution_count": 33,
     "metadata": {},
     "output_type": "execute_result"
    }
   ],
   "source": [
    "my_list = [100, 200, 300, 400, 500]\n",
    "\n",
    "my_var = pd.Series(my_list, index=['a', 'b', 'c', 'd', 'e'])\n",
    "print(my_var.to_string())\n",
    "my_var[0]"
   ]
  },
  {
   "cell_type": "code",
   "execution_count": 36,
   "id": "90097e82",
   "metadata": {},
   "outputs": [
    {
     "name": "stdout",
     "output_type": "stream",
     "text": [
      "car      [Ford, Toyota, Honda]\n",
      "mpg               [21, 22, 23]\n",
      "color       [red, blue, green]\n",
      "\n",
      "\n",
      "\n",
      "      car  mpg  color\n",
      "0    Ford   21    red\n",
      "1  Toyota   22   blue\n",
      "2   Honda   23  green\n",
      "\n",
      "\n",
      "\n",
      "car      Ford\n",
      "mpg        21\n",
      "color     red\n"
     ]
    }
   ],
   "source": [
    "my_data = {\n",
    "    'car': ['Ford', 'Toyota', 'Honda'],\n",
    "    'mpg': [21, 22, 23],\n",
    "    'color': ['red', 'blue', 'green'],\n",
    "}\n",
    "\n",
    "# Create a Series from the dictionary\n",
    "my_series = pd.Series(my_data)\n",
    "print(my_series.to_string())\n",
    "print(\"\\n\\n\")\n",
    "\n",
    "# Create a DataFrame from the dictionary\n",
    "my_df = pd.DataFrame(my_data)\n",
    "print(my_df.to_string())\n",
    "print(\"\\n\\n\")\n",
    "\n",
    "my_data['car'] = 'Ford'\n",
    "my_data['mpg'] = 21\n",
    "my_data['color'] = 'red'\n",
    "my_series = pd.Series(my_data)\n",
    "print(my_series.to_string())"
   ]
  },
  {
   "cell_type": "markdown",
   "id": "5f8db72d",
   "metadata": {},
   "source": [
    "## Data cleanning and preprocessing"
   ]
  },
  {
   "cell_type": "code",
   "execution_count": 50,
   "id": "687c9e18",
   "metadata": {},
   "outputs": [
    {
     "name": "stdout",
     "output_type": "stream",
     "text": [
      "        Duration          Date  Pulse  Maxpulse  Calories\n",
      "0             60  '2020/12/01'    110       130     409.1\n",
      "1             60  '2020/12/02'    117       145     479.0\n",
      "2             60  '2020/12/03'    103       135     340.0\n",
      "3             45  '2020/12/04'    109       175     282.4\n",
      "4             45  '2020/12/05'    117       148     406.0\n",
      "5             60  '2020/12/06'    102       127     300.0\n",
      "6             60  '2020/12/07'    110       136     374.0\n",
      "7            450  '2020/12/08'    104       134     253.3\n",
      "8             30  '2020/12/09'    109       133     195.1\n",
      "9             60  '2020/12/10'     98       124     269.0\n",
      "10            60  '2020/12/11'    103       147     329.3\n",
      "11            60  '2020/12/12'    100       120     250.7\n",
      "12            60  '2020/12/12'    100       120     250.7\n",
      "13            60  '2020/12/13'    106       128     345.3\n",
      "14            60  '2020/12/14'    104       132     379.3\n",
      "15            60  '2020/12/15'     98       123     275.0\n",
      "16            60  '2020/12/16'     98       120     215.2\n",
      "17            60  '2020/12/17'    100       120     300.0\n",
      "18            45  '2020/12/18'     90       112       NaN\n",
      "19            60  '2020/12/19'    103       123     323.0\n",
      "20            45  '2020/12/20'     97       125     243.0\n",
      "21            60  '2020/12/21'    108       131     364.2\n",
      "22            45           NaN    100       119     282.0\n",
      "23            60  '2020/12/23'    130       101     300.0\n",
      "24            45  '2020/12/24'    105       132     246.0\n",
      "25            60  '2020/12/25'    102       126     334.5\n",
      "26            60    2020/12/26    100       120     250.0\n",
      "27            60  '2020/12/27'     92       118     241.0\n",
      "28            60  '2020/12/28'    103       132       NaN\n",
      "29            60  '2020/12/29'    100       132     280.0\n",
      "30            60  '2020/12/30'    102       129     380.3\n",
      "31            60  '2020/12/31'     92       115     243.0 \n",
      "\n",
      "<class 'pandas.core.frame.DataFrame'>\n",
      "RangeIndex: 32 entries, 0 to 31\n",
      "Data columns (total 5 columns):\n",
      " #   Column        Non-Null Count  Dtype  \n",
      "---  ------        --------------  -----  \n",
      " 0       Duration  32 non-null     int64  \n",
      " 1   Date          31 non-null     object \n",
      " 2   Pulse         32 non-null     int64  \n",
      " 3   Maxpulse      32 non-null     int64  \n",
      " 4   Calories      30 non-null     float64\n",
      "dtypes: float64(1), int64(3), object(1)\n",
      "memory usage: 1.4+ KB\n",
      "None\n"
     ]
    }
   ],
   "source": [
    "import pandas as pd\n",
    "\n",
    "# get the data from CSV file\n",
    "pd.options.display.max_rows = 40  # Show all rows in the DataFrame\n",
    "df = pd.read_csv('/Users/akadilkalimoldayev/my_git/ecole42/ft_linear_regression/static/example_data.csv') # dataframe\n",
    "\n",
    "print(df, \"\\n\")  # Display the first few rows of the DataFrame\n",
    "print(df.info())  # Print the shape of the DataFrame"
   ]
  },
  {
   "cell_type": "code",
   "execution_count": 51,
   "id": "2e9fb757",
   "metadata": {},
   "outputs": [
    {
     "name": "stdout",
     "output_type": "stream",
     "text": [
      "<class 'pandas.core.frame.DataFrame'>\n",
      "Index: 29 entries, 0 to 31\n",
      "Data columns (total 5 columns):\n",
      " #   Column        Non-Null Count  Dtype  \n",
      "---  ------        --------------  -----  \n",
      " 0       Duration  29 non-null     int64  \n",
      " 1   Date          29 non-null     object \n",
      " 2   Pulse         29 non-null     int64  \n",
      " 3   Maxpulse      29 non-null     int64  \n",
      " 4   Calories      29 non-null     float64\n",
      "dtypes: float64(1), int64(3), object(1)\n",
      "memory usage: 1.4+ KB\n",
      "After dropping rows with missing values:\n",
      " None \n",
      "\n"
     ]
    }
   ],
   "source": [
    "df.dropna(inplace=True)  # Remove rows with missing values\n",
    "print(\"After dropping rows with missing values:\\n\", df.info(), \"\\n\")"
   ]
  },
  {
   "cell_type": "code",
   "execution_count": 52,
   "id": "56d1a869",
   "metadata": {},
   "outputs": [
    {
     "data": {
      "text/plain": [
       "<Axes: >"
      ]
     },
     "execution_count": 52,
     "metadata": {},
     "output_type": "execute_result"
    },
    {
     "data": {
      "image/png": "[encoded data removed]",
      "text/plain": [
       "<Figure size 640x480 with 1 Axes>"
      ]
     },
     "metadata": {},
     "output_type": "display_data"
    }
   ],
   "source": [
    "df.plot()"
   ]
  }
 ],
 "metadata": {
  "kernelspec": {
   "display_name": "venv",
   "language": "python",
   "name": "python3"
  },
  "language_info": {
   "codemirror_mode": {
    "name": "ipython",
    "version": 3
   },
   "file_extension": ".py",
   "mimetype": "text/x-python",
   "name": "python",
   "nbconvert_exporter": "python",
   "pygments_lexer": "ipython3",
   "version": "3.13.1"
  }
 },
 "nbformat": 4,
 "nbformat_minor": 5
}
